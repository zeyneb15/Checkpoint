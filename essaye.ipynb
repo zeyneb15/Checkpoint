{
 "cells": [
  {
   "cell_type": "code",
   "execution_count": 11,
   "id": "b9bc331e",
   "metadata": {
    "scrolled": true
   },
   "outputs": [
    {
     "name": "stdout",
     "output_type": "stream",
     "text": [
      "les valeurs sont:\n",
      "\n",
      "[2002]\n",
      "[2009]\n",
      "[2016]\n",
      "[2023]\n",
      "[2037]\n",
      "[2044]\n",
      "[2051]\n",
      "[2058]\n",
      "[2072]\n",
      "[2079]\n",
      "[2086]\n",
      "[2093]\n",
      "[2107]\n",
      "[2114]\n",
      "[2121]\n",
      "[2128]\n",
      "[2142]\n",
      "[2149]\n",
      "[2156]\n",
      "[2163]\n",
      "[2177]\n",
      "[2184]\n",
      "[2191]\n",
      "[2198]\n",
      "[2212]\n",
      "[2219]\n",
      "[2226]\n",
      "[2233]\n",
      "[2247]\n",
      "[2254]\n",
      "[2261]\n",
      "[2268]\n",
      "[2282]\n",
      "[2289]\n",
      "[2296]\n",
      "[2303]\n",
      "[2317]\n",
      "[2324]\n",
      "[2331]\n",
      "[2338]\n",
      "[2352]\n",
      "[2359]\n",
      "[2366]\n",
      "[2373]\n",
      "[2387]\n",
      "[2394]\n",
      "[2401]\n",
      "[2408]\n",
      "[2422]\n",
      "[2429]\n",
      "[2436]\n",
      "[2443]\n",
      "[2457]\n",
      "[2464]\n",
      "[2471]\n",
      "[2478]\n",
      "[2492]\n",
      "[2499]\n",
      "[2506]\n",
      "[2513]\n",
      "[2527]\n",
      "[2534]\n",
      "[2541]\n",
      "[2548]\n",
      "[2562]\n",
      "[2569]\n",
      "[2576]\n",
      "[2583]\n",
      "[2597]\n",
      "[2604]\n",
      "[2611]\n",
      "[2618]\n",
      "[2632]\n",
      "[2639]\n",
      "[2646]\n",
      "[2653]\n",
      "[2667]\n",
      "[2674]\n",
      "[2681]\n",
      "[2688]\n",
      "[2702]\n",
      "[2709]\n",
      "[2716]\n",
      "[2723]\n",
      "[2737]\n",
      "[2744]\n",
      "[2751]\n",
      "[2758]\n",
      "[2772]\n",
      "[2779]\n",
      "[2786]\n",
      "[2793]\n",
      "[2807]\n",
      "[2814]\n",
      "[2821]\n",
      "[2828]\n",
      "[2842]\n",
      "[2849]\n",
      "[2856]\n",
      "[2863]\n",
      "[2877]\n",
      "[2884]\n",
      "[2891]\n",
      "[2898]\n",
      "[2912]\n",
      "[2919]\n",
      "[2926]\n",
      "[2933]\n",
      "[2947]\n",
      "[2954]\n",
      "[2961]\n",
      "[2968]\n",
      "[2982]\n",
      "[2989]\n",
      "[2996]\n",
      "[3003]\n",
      "[3017]\n",
      "[3024]\n",
      "[3031]\n",
      "[3038]\n",
      "[3052]\n",
      "[3059]\n",
      "[3066]\n",
      "[3073]\n",
      "[3087]\n",
      "[3094]\n",
      "[3101]\n",
      "[3108]\n",
      "[3122]\n",
      "[3129]\n",
      "[3136]\n",
      "[3143]\n",
      "[3157]\n",
      "[3164]\n",
      "[3171]\n",
      "[3178]\n",
      "[3192]\n",
      "[3199]\n"
     ]
    }
   ],
   "source": [
    "print('Les valeurs sont:\\n') #Question1\n",
    "for x in range(2000,3200) :\n",
    "    if (x%7)==0 :\n",
    "        if (x%5!=0) :\n",
    "            result=[x] \n",
    "            print(result)\n",
    "\n",
    "               \n",
    "        \n",
    "    "
   ]
  },
  {
   "cell_type": "code",
   "execution_count": 63,
   "id": "7094cde7",
   "metadata": {},
   "outputs": [
    {
     "name": "stdout",
     "output_type": "stream",
     "text": [
      "Veuillez introduir un entier =4\n",
      "\u001b[94m Le Factorielle de 4 est = 24\n"
     ]
    }
   ],
   "source": [
    "def facto(x) :#Question2\n",
    "    fact=1\n",
    "    for i in range(1,x+1) : \n",
    "            fact*=i \n",
    "    return fact\n",
    "        \n",
    "n=int(input('Veuillez introduir un entier ='))\n",
    "if n<2 : \n",
    "        print('Le factorielle est =',1)\n",
    "else :\n",
    "    \n",
    "    print('\\033[94m Le Factorielle de',n,'est =',facto(n))\n",
    "  "
   ]
  },
  {
   "cell_type": "code",
   "execution_count": 65,
   "id": "ccd8edd4",
   "metadata": {
    "scrolled": false
   },
   "outputs": [
    {
     "name": "stdout",
     "output_type": "stream",
     "text": [
      "Veuillez introduir un entier n du dictionnaire carré \n",
      "\n",
      "\u001b[94m Le dictionaire carré de 4 est=\n",
      "4\n",
      "{1: 1, 2: 4, 3: 9, 4: 16}\n"
     ]
    }
   ],
   "source": [
    "def dictio(n):       #Question3\n",
    "    dictio={i:i*i for i in range(1,n+1)}\n",
    "    return dictio\n",
    "print('Veuillez introduir un entier n du dictionnaire carré \\n')\n",
    "print('\\033[94m Le dictionaire carré de',n,'est=')\n",
    "n=int(input())\n",
    "while (type(n)!=str) :\n",
    "    print(dictio(n))\n",
    "    break"
   ]
  },
  {
   "cell_type": "code",
   "execution_count": 66,
   "id": "b7365c6f",
   "metadata": {},
   "outputs": [
    {
     "name": "stdout",
     "output_type": "stream",
     "text": [
      "Veuillez saisir votre phrase\n",
      "je suis la\n",
      "Veuillez introduir lindex souhaité tel quil soit inférieur a 9\n",
      "5\n",
      "\u001b[94m La phrase devient apres supression du 5 eme caractère : \n",
      "\n",
      "je sus la\n"
     ]
    }
   ],
   "source": [
    "def suppcar(car,i):         #Question4\n",
    "      return car[0:i]+car[i+1:] \n",
    "         \n",
    "car=input('Veuillez saisir votre phrase\\n')\n",
    "print('Veuillez introduir lindex souhaité tel quil soit inférieur a',(len(car)-1))\n",
    "i=int(input())\n",
    "if i<(len(car)) :\n",
    "    print('\\033[94m La phrase devient apres supression du',i,'eme caractère : \\n')\n",
    "    print(suppcar(car,i))\n",
    "else :\n",
    "    print('\\033[91m oups! Veuillez introduire un index adéquant!')"
   ]
  },
  {
   "cell_type": "code",
   "execution_count": 68,
   "id": "d50f4f80",
   "metadata": {},
   "outputs": [
    {
     "name": "stdout",
     "output_type": "stream",
     "text": [
      "The Original Array element \n",
      " [[0 1]\n",
      " [2 3]\n",
      " [4 5]]\n",
      "\u001b[95m Array to liste\n",
      " [[0, 1], [2, 3], [4, 5]]\n",
      "<class 'list'>\n"
     ]
    }
   ],
   "source": [
    "import numpy as np                   #Question5\n",
    "orig=np.arange(6).reshape(3,2)\n",
    "print('The Original Array element \\n',orig)\n",
    "toliste=orig.tolist()\n",
    "print('\\033[95m Array to liste\\n',toliste)\n",
    "print(type(toliste))"
   ]
  },
  {
   "cell_type": "code",
   "execution_count": 70,
   "id": "d70ab3a4",
   "metadata": {
    "scrolled": true
   },
   "outputs": [
    {
     "name": "stdout",
     "output_type": "stream",
     "text": [
      "[[0 1 2]\n",
      " [2 1 0]]\n",
      "\u001b[91m La Covariance entre les deux listes  est : \n",
      " \n",
      "[[ 1. -1.]\n",
      " [-1.  1.]]\n"
     ]
    }
   ],
   "source": [
    "import numpy as np   #Question6\n",
    "ori1=np.array([[0,1,2],[2,1,0]])\n",
    "print(ori1)\n",
    "print('\\033[91m La Covariance entre les deux listes  est : \\n ')\n",
    "print(np.cov(ori1))\n",
    "\n"
   ]
  },
  {
   "cell_type": "code",
   "execution_count": 71,
   "id": "544742e8",
   "metadata": {
    "scrolled": true
   },
   "outputs": [
    {
     "name": "stdout",
     "output_type": "stream",
     "text": [
      "Veuillez saisir les paramètres x de lequation séparés par une virgule :100,150,180\n",
      "\u001b[93m Le resultat est: \n",
      "\n",
      "{100: 18}\n",
      "{150: 22}\n",
      "{180: 24}\n"
     ]
    }
   ],
   "source": [
    "C=50                 #Question7\n",
    "H=30 \n",
    "x=input('Veuillez saisir les paramètres x de lequation séparés par une virgule :')\n",
    "list = D.split(',')\n",
    "import math\n",
    "print('\\033[93m Le resultat est: \\n')\n",
    "for i in  list :\n",
    "    i=int(i)\n",
    "    Q=round(math.sqrt((2*C*i)/H))\n",
    "    valeurs={i:Q} \n",
    "    print(valeurs) \n"
   ]
  },
  {
   "cell_type": "code",
   "execution_count": null,
   "id": "9bea6209",
   "metadata": {},
   "outputs": [],
   "source": []
  }
 ],
 "metadata": {
  "kernelspec": {
   "display_name": "Python 3 (ipykernel)",
   "language": "python",
   "name": "python3"
  },
  "language_info": {
   "codemirror_mode": {
    "name": "ipython",
    "version": 3
   },
   "file_extension": ".py",
   "mimetype": "text/x-python",
   "name": "python",
   "nbconvert_exporter": "python",
   "pygments_lexer": "ipython3",
   "version": "3.9.12"
  }
 },
 "nbformat": 4,
 "nbformat_minor": 5
}
